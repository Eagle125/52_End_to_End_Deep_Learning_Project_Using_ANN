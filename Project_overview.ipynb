{
 "cells": [
  {
   "cell_type": "markdown",
   "id": "9a85e074",
   "metadata": {},
   "source": [
    "> We will using :  \n",
    "- Churn Modeling Dataset \n",
    "- Convert Categorical feature into numerical feature\n",
    "- We will do Standarization\n",
    "\n",
    "> Then we will create ANN : \n",
    "- Input with 11 Layers\n",
    "- Then create hidden layers\n",
    "- Dropout will also be applied\n",
    "- Calculating loss then using optimizers using Keras and Tensorflow\n",
    "- The output will be one (Binary)\n",
    "\n",
    "> Further using Streamlit"
   ]
  },
  {
   "cell_type": "code",
   "execution_count": 1,
   "id": "486ab6b3",
   "metadata": {},
   "outputs": [
    {
     "name": "stdout",
     "output_type": "stream",
     "text": [
      "TensorFlow version: 2.19.0\n"
     ]
    }
   ],
   "source": [
    "import tensorflow as tf\n",
    "print(\"TensorFlow version:\", tf.__version__)"
   ]
  },
  {
   "cell_type": "markdown",
   "id": "ded193ba",
   "metadata": {},
   "source": []
  },
  {
   "cell_type": "code",
   "execution_count": 2,
   "id": "59581916",
   "metadata": {},
   "outputs": [
    {
     "name": "stdout",
     "output_type": "stream",
     "text": [
      "Hello\n"
     ]
    }
   ],
   "source": [
    "print(\"Hello\")"
   ]
  },
  {
   "cell_type": "code",
   "execution_count": null,
   "id": "a44e4d4b",
   "metadata": {},
   "outputs": [],
   "source": []
  }
 ],
 "metadata": {
  "kernelspec": {
   "display_name": "Python 3",
   "language": "python",
   "name": "python3"
  },
  "language_info": {
   "codemirror_mode": {
    "name": "ipython",
    "version": 3
   },
   "file_extension": ".py",
   "mimetype": "text/x-python",
   "name": "python",
   "nbconvert_exporter": "python",
   "pygments_lexer": "ipython3",
   "version": "3.11.0"
  }
 },
 "nbformat": 4,
 "nbformat_minor": 5
}
